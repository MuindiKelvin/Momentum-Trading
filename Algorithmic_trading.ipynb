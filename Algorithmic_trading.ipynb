{
 "cells": [
  {
   "cell_type": "markdown",
   "id": "b1f69fdc",
   "metadata": {},
   "source": [
    "# Developing \"Momentum\" Trading Strategy\n",
    "* Many different takes on this strategy,\n",
    "* It is also referred to as trend following,\n",
    "* Whatever you do and call it, you first need to research potential trading signals."
   ]
  },
  {
   "cell_type": "code",
   "execution_count": 1,
   "id": "fe6c5f90",
   "metadata": {},
   "outputs": [],
   "source": [
    "import numpy as np\n",
    "import pandas as pd\n",
    "import pandas_datareader as pdr\n",
    "import matplotlib.pyplot as plt\n",
    "import seaborn as sns"
   ]
  },
  {
   "cell_type": "markdown",
   "id": "88e274d3",
   "metadata": {},
   "source": [
    "### 1. Download Data to be used: \n",
    "* Many services for this, some paid some free \n",
    "* Yahoo Finance API\n",
    "* Typically trading \"systems\" involve a number of securities\n",
    "* For this demonstration we are just going to look at GLD --> the gold ETF"
   ]
  },
  {
   "cell_type": "code",
   "execution_count": 2,
   "id": "8ec5e9f8",
   "metadata": {},
   "outputs": [
    {
     "data": {
      "text/html": [
       "<div>\n",
       "<style scoped>\n",
       "    .dataframe tbody tr th:only-of-type {\n",
       "        vertical-align: middle;\n",
       "    }\n",
       "\n",
       "    .dataframe tbody tr th {\n",
       "        vertical-align: top;\n",
       "    }\n",
       "\n",
       "    .dataframe thead th {\n",
       "        text-align: right;\n",
       "    }\n",
       "</style>\n",
       "<table border=\"1\" class=\"dataframe\">\n",
       "  <thead>\n",
       "    <tr style=\"text-align: right;\">\n",
       "      <th></th>\n",
       "      <th>day</th>\n",
       "      <th>Open</th>\n",
       "      <th>High</th>\n",
       "      <th>Low</th>\n",
       "      <th>Close</th>\n",
       "    </tr>\n",
       "    <tr>\n",
       "      <th>Date</th>\n",
       "      <th></th>\n",
       "      <th></th>\n",
       "      <th></th>\n",
       "      <th></th>\n",
       "      <th></th>\n",
       "    </tr>\n",
       "  </thead>\n",
       "  <tbody>\n",
       "    <tr>\n",
       "      <th>2017-07-25</th>\n",
       "      <td>1</td>\n",
       "      <td>118.989998</td>\n",
       "      <td>119.320000</td>\n",
       "      <td>118.790001</td>\n",
       "      <td>118.919998</td>\n",
       "    </tr>\n",
       "    <tr>\n",
       "      <th>2017-07-26</th>\n",
       "      <td>2</td>\n",
       "      <td>118.570000</td>\n",
       "      <td>120.150002</td>\n",
       "      <td>118.550003</td>\n",
       "      <td>119.879997</td>\n",
       "    </tr>\n",
       "    <tr>\n",
       "      <th>2017-07-27</th>\n",
       "      <td>3</td>\n",
       "      <td>120.099998</td>\n",
       "      <td>120.139999</td>\n",
       "      <td>119.279999</td>\n",
       "      <td>119.790001</td>\n",
       "    </tr>\n",
       "    <tr>\n",
       "      <th>2017-07-28</th>\n",
       "      <td>4</td>\n",
       "      <td>120.150002</td>\n",
       "      <td>120.860001</td>\n",
       "      <td>120.139999</td>\n",
       "      <td>120.690002</td>\n",
       "    </tr>\n",
       "    <tr>\n",
       "      <th>2017-07-31</th>\n",
       "      <td>5</td>\n",
       "      <td>120.500000</td>\n",
       "      <td>120.809998</td>\n",
       "      <td>120.449997</td>\n",
       "      <td>120.750000</td>\n",
       "    </tr>\n",
       "    <tr>\n",
       "      <th>...</th>\n",
       "      <td>...</td>\n",
       "      <td>...</td>\n",
       "      <td>...</td>\n",
       "      <td>...</td>\n",
       "      <td>...</td>\n",
       "    </tr>\n",
       "    <tr>\n",
       "      <th>2017-12-07</th>\n",
       "      <td>96</td>\n",
       "      <td>119.010002</td>\n",
       "      <td>119.239998</td>\n",
       "      <td>118.099998</td>\n",
       "      <td>118.489998</td>\n",
       "    </tr>\n",
       "    <tr>\n",
       "      <th>2017-12-08</th>\n",
       "      <td>97</td>\n",
       "      <td>118.489998</td>\n",
       "      <td>118.919998</td>\n",
       "      <td>118.330002</td>\n",
       "      <td>118.480003</td>\n",
       "    </tr>\n",
       "    <tr>\n",
       "      <th>2017-12-11</th>\n",
       "      <td>98</td>\n",
       "      <td>118.370003</td>\n",
       "      <td>118.540001</td>\n",
       "      <td>117.800003</td>\n",
       "      <td>118.010002</td>\n",
       "    </tr>\n",
       "    <tr>\n",
       "      <th>2017-12-12</th>\n",
       "      <td>99</td>\n",
       "      <td>117.650002</td>\n",
       "      <td>118.169998</td>\n",
       "      <td>117.400002</td>\n",
       "      <td>118.150002</td>\n",
       "    </tr>\n",
       "    <tr>\n",
       "      <th>2017-12-13</th>\n",
       "      <td>100</td>\n",
       "      <td>118.190002</td>\n",
       "      <td>119.349998</td>\n",
       "      <td>118.010002</td>\n",
       "      <td>119.169998</td>\n",
       "    </tr>\n",
       "  </tbody>\n",
       "</table>\n",
       "<p>100 rows × 5 columns</p>\n",
       "</div>"
      ],
      "text/plain": [
       "            day        Open        High         Low       Close\n",
       "Date                                                           \n",
       "2017-07-25    1  118.989998  119.320000  118.790001  118.919998\n",
       "2017-07-26    2  118.570000  120.150002  118.550003  119.879997\n",
       "2017-07-27    3  120.099998  120.139999  119.279999  119.790001\n",
       "2017-07-28    4  120.150002  120.860001  120.139999  120.690002\n",
       "2017-07-31    5  120.500000  120.809998  120.449997  120.750000\n",
       "...         ...         ...         ...         ...         ...\n",
       "2017-12-07   96  119.010002  119.239998  118.099998  118.489998\n",
       "2017-12-08   97  118.489998  118.919998  118.330002  118.480003\n",
       "2017-12-11   98  118.370003  118.540001  117.800003  118.010002\n",
       "2017-12-12   99  117.650002  118.169998  117.400002  118.150002\n",
       "2017-12-13  100  118.190002  119.349998  118.010002  119.169998\n",
       "\n",
       "[100 rows x 5 columns]"
      ]
     },
     "execution_count": 2,
     "metadata": {},
     "output_type": "execute_result"
    }
   ],
   "source": [
    "gld = pdr.get_data_yahoo('GLD')\n",
    "day = np.arange(1, len(gld) + 1)\n",
    "gld['day'] = day\n",
    "gld.drop(columns=['Adj Close', 'Volume'], inplace = True)\n",
    "gld = gld[['day', 'Open', 'High', 'Low', 'Close']]\n",
    "gld.head(100)"
   ]
  },
  {
   "cell_type": "code",
   "execution_count": 3,
   "id": "32e7174c",
   "metadata": {},
   "outputs": [
    {
     "name": "stdout",
     "output_type": "stream",
     "text": [
      "<class 'pandas.core.frame.DataFrame'>\n",
      "DatetimeIndex: 1258 entries, 2017-07-25 to 2022-07-22\n",
      "Data columns (total 5 columns):\n",
      " #   Column  Non-Null Count  Dtype  \n",
      "---  ------  --------------  -----  \n",
      " 0   day     1258 non-null   int32  \n",
      " 1   Open    1258 non-null   float64\n",
      " 2   High    1258 non-null   float64\n",
      " 3   Low     1258 non-null   float64\n",
      " 4   Close   1258 non-null   float64\n",
      "dtypes: float64(4), int32(1)\n",
      "memory usage: 54.1 KB\n"
     ]
    }
   ],
   "source": [
    "gld.info()"
   ]
  },
  {
   "cell_type": "code",
   "execution_count": 4,
   "id": "f58935bf",
   "metadata": {},
   "outputs": [],
   "source": [
    "gld.drop_duplicates(inplace = True)"
   ]
  },
  {
   "cell_type": "code",
   "execution_count": 5,
   "id": "dde9fd62",
   "metadata": {},
   "outputs": [
    {
     "data": {
      "text/html": [
       "<div>\n",
       "<style scoped>\n",
       "    .dataframe tbody tr th:only-of-type {\n",
       "        vertical-align: middle;\n",
       "    }\n",
       "\n",
       "    .dataframe tbody tr th {\n",
       "        vertical-align: top;\n",
       "    }\n",
       "\n",
       "    .dataframe thead th {\n",
       "        text-align: right;\n",
       "    }\n",
       "</style>\n",
       "<table border=\"1\" class=\"dataframe\">\n",
       "  <thead>\n",
       "    <tr style=\"text-align: right;\">\n",
       "      <th></th>\n",
       "      <th>day</th>\n",
       "      <th>Open</th>\n",
       "      <th>High</th>\n",
       "      <th>Low</th>\n",
       "      <th>Close</th>\n",
       "    </tr>\n",
       "  </thead>\n",
       "  <tbody>\n",
       "    <tr>\n",
       "      <th>count</th>\n",
       "      <td>1258.000000</td>\n",
       "      <td>1258.000000</td>\n",
       "      <td>1258.000000</td>\n",
       "      <td>1258.000000</td>\n",
       "      <td>1258.000000</td>\n",
       "    </tr>\n",
       "    <tr>\n",
       "      <th>mean</th>\n",
       "      <td>629.500000</td>\n",
       "      <td>147.509213</td>\n",
       "      <td>148.103808</td>\n",
       "      <td>146.853188</td>\n",
       "      <td>147.498712</td>\n",
       "    </tr>\n",
       "    <tr>\n",
       "      <th>std</th>\n",
       "      <td>363.297628</td>\n",
       "      <td>23.631276</td>\n",
       "      <td>23.801850</td>\n",
       "      <td>23.390212</td>\n",
       "      <td>23.615601</td>\n",
       "    </tr>\n",
       "    <tr>\n",
       "      <th>min</th>\n",
       "      <td>1.000000</td>\n",
       "      <td>111.459999</td>\n",
       "      <td>111.879997</td>\n",
       "      <td>111.059998</td>\n",
       "      <td>111.099998</td>\n",
       "    </tr>\n",
       "    <tr>\n",
       "      <th>25%</th>\n",
       "      <td>315.250000</td>\n",
       "      <td>123.197502</td>\n",
       "      <td>123.617500</td>\n",
       "      <td>122.902502</td>\n",
       "      <td>123.195002</td>\n",
       "    </tr>\n",
       "    <tr>\n",
       "      <th>50%</th>\n",
       "      <td>629.500000</td>\n",
       "      <td>146.365005</td>\n",
       "      <td>146.894997</td>\n",
       "      <td>145.810005</td>\n",
       "      <td>146.595001</td>\n",
       "    </tr>\n",
       "    <tr>\n",
       "      <th>75%</th>\n",
       "      <td>943.750000</td>\n",
       "      <td>169.300003</td>\n",
       "      <td>169.907501</td>\n",
       "      <td>168.607498</td>\n",
       "      <td>169.345005</td>\n",
       "    </tr>\n",
       "    <tr>\n",
       "      <th>max</th>\n",
       "      <td>1258.000000</td>\n",
       "      <td>193.740005</td>\n",
       "      <td>194.449997</td>\n",
       "      <td>192.520004</td>\n",
       "      <td>193.889999</td>\n",
       "    </tr>\n",
       "  </tbody>\n",
       "</table>\n",
       "</div>"
      ],
      "text/plain": [
       "               day         Open         High          Low        Close\n",
       "count  1258.000000  1258.000000  1258.000000  1258.000000  1258.000000\n",
       "mean    629.500000   147.509213   148.103808   146.853188   147.498712\n",
       "std     363.297628    23.631276    23.801850    23.390212    23.615601\n",
       "min       1.000000   111.459999   111.879997   111.059998   111.099998\n",
       "25%     315.250000   123.197502   123.617500   122.902502   123.195002\n",
       "50%     629.500000   146.365005   146.894997   145.810005   146.595001\n",
       "75%     943.750000   169.300003   169.907501   168.607498   169.345005\n",
       "max    1258.000000   193.740005   194.449997   192.520004   193.889999"
      ]
     },
     "execution_count": 5,
     "metadata": {},
     "output_type": "execute_result"
    }
   ],
   "source": [
    "gld.describe()"
   ]
  },
  {
   "cell_type": "code",
   "execution_count": 6,
   "id": "f95d6d9b",
   "metadata": {},
   "outputs": [
    {
     "data": {
      "text/html": [
       "<div>\n",
       "<style scoped>\n",
       "    .dataframe tbody tr th:only-of-type {\n",
       "        vertical-align: middle;\n",
       "    }\n",
       "\n",
       "    .dataframe tbody tr th {\n",
       "        vertical-align: top;\n",
       "    }\n",
       "\n",
       "    .dataframe thead th {\n",
       "        text-align: right;\n",
       "    }\n",
       "</style>\n",
       "<table border=\"1\" class=\"dataframe\">\n",
       "  <thead>\n",
       "    <tr style=\"text-align: right;\">\n",
       "      <th></th>\n",
       "      <th>day</th>\n",
       "      <th>Open</th>\n",
       "      <th>High</th>\n",
       "      <th>Low</th>\n",
       "      <th>Close</th>\n",
       "    </tr>\n",
       "  </thead>\n",
       "  <tbody>\n",
       "    <tr>\n",
       "      <th>day</th>\n",
       "      <td>1.000000</td>\n",
       "      <td>0.889348</td>\n",
       "      <td>0.889208</td>\n",
       "      <td>0.890689</td>\n",
       "      <td>0.889551</td>\n",
       "    </tr>\n",
       "    <tr>\n",
       "      <th>Open</th>\n",
       "      <td>0.889348</td>\n",
       "      <td>1.000000</td>\n",
       "      <td>0.999676</td>\n",
       "      <td>0.999545</td>\n",
       "      <td>0.999247</td>\n",
       "    </tr>\n",
       "    <tr>\n",
       "      <th>High</th>\n",
       "      <td>0.889208</td>\n",
       "      <td>0.999676</td>\n",
       "      <td>1.000000</td>\n",
       "      <td>0.999491</td>\n",
       "      <td>0.999654</td>\n",
       "    </tr>\n",
       "    <tr>\n",
       "      <th>Low</th>\n",
       "      <td>0.890689</td>\n",
       "      <td>0.999545</td>\n",
       "      <td>0.999491</td>\n",
       "      <td>1.000000</td>\n",
       "      <td>0.999705</td>\n",
       "    </tr>\n",
       "    <tr>\n",
       "      <th>Close</th>\n",
       "      <td>0.889551</td>\n",
       "      <td>0.999247</td>\n",
       "      <td>0.999654</td>\n",
       "      <td>0.999705</td>\n",
       "      <td>1.000000</td>\n",
       "    </tr>\n",
       "  </tbody>\n",
       "</table>\n",
       "</div>"
      ],
      "text/plain": [
       "            day      Open      High       Low     Close\n",
       "day    1.000000  0.889348  0.889208  0.890689  0.889551\n",
       "Open   0.889348  1.000000  0.999676  0.999545  0.999247\n",
       "High   0.889208  0.999676  1.000000  0.999491  0.999654\n",
       "Low    0.890689  0.999545  0.999491  1.000000  0.999705\n",
       "Close  0.889551  0.999247  0.999654  0.999705  1.000000"
      ]
     },
     "execution_count": 6,
     "metadata": {},
     "output_type": "execute_result"
    }
   ],
   "source": [
    "gld.corr()"
   ]
  },
  {
   "cell_type": "code",
   "execution_count": 7,
   "id": "94b77df6",
   "metadata": {},
   "outputs": [
    {
     "data": {
      "image/png": "[encoded data removed]",
      "text/plain": [
       "<Figure size 720x720 with 2 Axes>"
      ]
     },
     "metadata": {
      "needs_background": "light"
     },
     "output_type": "display_data"
    }
   ],
   "source": [
    "correlation = gld.corr()\n",
    "plt.figure(figsize=(10, 10))\n",
    "sns.heatmap(correlation, annot=True)\n",
    "plt.show()"
   ]
  },
  {
   "cell_type": "markdown",
   "id": "b6df94e8",
   "metadata": {},
   "source": [
    "### 2. Add data/transform data\n",
    "* calculate signal based on some price or statistical action\n",
    "* we are going to try a moving average crossover to generate signals\n",
    "* for this strategy we will always by \"in\" a trade, either long or short\n",
    "* we are modeling; this means real life variation should be expected"
   ]
  },
  {
   "cell_type": "markdown",
   "id": "6e9898ec",
   "metadata": {},
   "source": [
    "#### Add moving averages to the data frame"
   ]
  },
  {
   "cell_type": "code",
   "execution_count": 8,
   "id": "f1583c5b",
   "metadata": {},
   "outputs": [
    {
     "data": {
      "text/html": [
       "<div>\n",
       "<style scoped>\n",
       "    .dataframe tbody tr th:only-of-type {\n",
       "        vertical-align: middle;\n",
       "    }\n",
       "\n",
       "    .dataframe tbody tr th {\n",
       "        vertical-align: top;\n",
       "    }\n",
       "\n",
       "    .dataframe thead th {\n",
       "        text-align: right;\n",
       "    }\n",
       "</style>\n",
       "<table border=\"1\" class=\"dataframe\">\n",
       "  <thead>\n",
       "    <tr style=\"text-align: right;\">\n",
       "      <th></th>\n",
       "      <th>day</th>\n",
       "      <th>Open</th>\n",
       "      <th>High</th>\n",
       "      <th>Low</th>\n",
       "      <th>Close</th>\n",
       "      <th>9-day</th>\n",
       "      <th>21-day</th>\n",
       "    </tr>\n",
       "    <tr>\n",
       "      <th>Date</th>\n",
       "      <th></th>\n",
       "      <th></th>\n",
       "      <th></th>\n",
       "      <th></th>\n",
       "      <th></th>\n",
       "      <th></th>\n",
       "      <th></th>\n",
       "    </tr>\n",
       "  </thead>\n",
       "  <tbody>\n",
       "    <tr>\n",
       "      <th>2017-08-21</th>\n",
       "      <td>20</td>\n",
       "      <td>122.540001</td>\n",
       "      <td>122.980003</td>\n",
       "      <td>122.500000</td>\n",
       "      <td>122.760002</td>\n",
       "      <td>NaN</td>\n",
       "      <td>NaN</td>\n",
       "    </tr>\n",
       "    <tr>\n",
       "      <th>2017-08-22</th>\n",
       "      <td>21</td>\n",
       "      <td>122.559998</td>\n",
       "      <td>122.559998</td>\n",
       "      <td>121.849998</td>\n",
       "      <td>122.209999</td>\n",
       "      <td>NaN</td>\n",
       "      <td>NaN</td>\n",
       "    </tr>\n",
       "    <tr>\n",
       "      <th>2017-08-23</th>\n",
       "      <td>22</td>\n",
       "      <td>122.580002</td>\n",
       "      <td>122.690002</td>\n",
       "      <td>122.309998</td>\n",
       "      <td>122.669998</td>\n",
       "      <td>NaN</td>\n",
       "      <td>NaN</td>\n",
       "    </tr>\n",
       "    <tr>\n",
       "      <th>2017-08-24</th>\n",
       "      <td>23</td>\n",
       "      <td>122.389999</td>\n",
       "      <td>122.639999</td>\n",
       "      <td>122.129997</td>\n",
       "      <td>122.290001</td>\n",
       "      <td>NaN</td>\n",
       "      <td>NaN</td>\n",
       "    </tr>\n",
       "    <tr>\n",
       "      <th>2017-08-25</th>\n",
       "      <td>24</td>\n",
       "      <td>122.769997</td>\n",
       "      <td>123.019997</td>\n",
       "      <td>121.290001</td>\n",
       "      <td>122.739998</td>\n",
       "      <td>NaN</td>\n",
       "      <td>NaN</td>\n",
       "    </tr>\n",
       "    <tr>\n",
       "      <th>2017-08-28</th>\n",
       "      <td>25</td>\n",
       "      <td>123.330002</td>\n",
       "      <td>124.730003</td>\n",
       "      <td>123.330002</td>\n",
       "      <td>124.690002</td>\n",
       "      <td>NaN</td>\n",
       "      <td>NaN</td>\n",
       "    </tr>\n",
       "  </tbody>\n",
       "</table>\n",
       "</div>"
      ],
      "text/plain": [
       "            day        Open        High         Low       Close  9-day  21-day\n",
       "Date                                                                          \n",
       "2017-08-21   20  122.540001  122.980003  122.500000  122.760002    NaN     NaN\n",
       "2017-08-22   21  122.559998  122.559998  121.849998  122.209999    NaN     NaN\n",
       "2017-08-23   22  122.580002  122.690002  122.309998  122.669998    NaN     NaN\n",
       "2017-08-24   23  122.389999  122.639999  122.129997  122.290001    NaN     NaN\n",
       "2017-08-25   24  122.769997  123.019997  121.290001  122.739998    NaN     NaN\n",
       "2017-08-28   25  123.330002  124.730003  123.330002  124.690002    NaN     NaN"
      ]
     },
     "execution_count": 8,
     "metadata": {},
     "output_type": "execute_result"
    }
   ],
   "source": [
    "gld['9-day'] = gld['Close'].rolling(50).mean()\n",
    "gld['21-day'] = gld['Close'].rolling(200).mean()\n",
    "gld[19:25]"
   ]
  },
  {
   "cell_type": "markdown",
   "id": "64967f6b",
   "metadata": {},
   "source": [
    "#### Add \"signal\" column  "
   ]
  },
  {
   "cell_type": "code",
   "execution_count": 9,
   "id": "5d6b5468",
   "metadata": {},
   "outputs": [
    {
     "data": {
      "text/html": [
       "<div>\n",
       "<style scoped>\n",
       "    .dataframe tbody tr th:only-of-type {\n",
       "        vertical-align: middle;\n",
       "    }\n",
       "\n",
       "    .dataframe tbody tr th {\n",
       "        vertical-align: top;\n",
       "    }\n",
       "\n",
       "    .dataframe thead th {\n",
       "        text-align: right;\n",
       "    }\n",
       "</style>\n",
       "<table border=\"1\" class=\"dataframe\">\n",
       "  <thead>\n",
       "    <tr style=\"text-align: right;\">\n",
       "      <th></th>\n",
       "      <th>day</th>\n",
       "      <th>Open</th>\n",
       "      <th>High</th>\n",
       "      <th>Low</th>\n",
       "      <th>Close</th>\n",
       "      <th>9-day</th>\n",
       "      <th>21-day</th>\n",
       "      <th>signal</th>\n",
       "    </tr>\n",
       "    <tr>\n",
       "      <th>Date</th>\n",
       "      <th></th>\n",
       "      <th></th>\n",
       "      <th></th>\n",
       "      <th></th>\n",
       "      <th></th>\n",
       "      <th></th>\n",
       "      <th></th>\n",
       "      <th></th>\n",
       "    </tr>\n",
       "  </thead>\n",
       "  <tbody>\n",
       "    <tr>\n",
       "      <th>2018-05-09</th>\n",
       "      <td>200</td>\n",
       "      <td>124.449997</td>\n",
       "      <td>124.870003</td>\n",
       "      <td>124.239998</td>\n",
       "      <td>124.330002</td>\n",
       "      <td>125.8866</td>\n",
       "      <td>123.83075</td>\n",
       "      <td>1</td>\n",
       "    </tr>\n",
       "    <tr>\n",
       "      <th>2018-05-10</th>\n",
       "      <td>201</td>\n",
       "      <td>125.220001</td>\n",
       "      <td>125.370003</td>\n",
       "      <td>124.750000</td>\n",
       "      <td>125.180000</td>\n",
       "      <td>125.8902</td>\n",
       "      <td>123.86205</td>\n",
       "      <td>1</td>\n",
       "    </tr>\n",
       "    <tr>\n",
       "      <th>2018-05-11</th>\n",
       "      <td>202</td>\n",
       "      <td>125.570000</td>\n",
       "      <td>125.589996</td>\n",
       "      <td>124.940002</td>\n",
       "      <td>125.000000</td>\n",
       "      <td>125.8958</td>\n",
       "      <td>123.88765</td>\n",
       "      <td>1</td>\n",
       "    </tr>\n",
       "    <tr>\n",
       "      <th>2018-05-14</th>\n",
       "      <td>203</td>\n",
       "      <td>125.160004</td>\n",
       "      <td>125.209999</td>\n",
       "      <td>124.440002</td>\n",
       "      <td>124.489998</td>\n",
       "      <td>125.8778</td>\n",
       "      <td>123.91115</td>\n",
       "      <td>1</td>\n",
       "    </tr>\n",
       "    <tr>\n",
       "      <th>2018-05-15</th>\n",
       "      <td>204</td>\n",
       "      <td>122.820000</td>\n",
       "      <td>122.820000</td>\n",
       "      <td>122.129997</td>\n",
       "      <td>122.480003</td>\n",
       "      <td>125.8238</td>\n",
       "      <td>123.92010</td>\n",
       "      <td>1</td>\n",
       "    </tr>\n",
       "  </tbody>\n",
       "</table>\n",
       "</div>"
      ],
      "text/plain": [
       "            day        Open        High         Low       Close     9-day  \\\n",
       "Date                                                                        \n",
       "2018-05-09  200  124.449997  124.870003  124.239998  124.330002  125.8866   \n",
       "2018-05-10  201  125.220001  125.370003  124.750000  125.180000  125.8902   \n",
       "2018-05-11  202  125.570000  125.589996  124.940002  125.000000  125.8958   \n",
       "2018-05-14  203  125.160004  125.209999  124.440002  124.489998  125.8778   \n",
       "2018-05-15  204  122.820000  122.820000  122.129997  122.480003  125.8238   \n",
       "\n",
       "               21-day  signal  \n",
       "Date                           \n",
       "2018-05-09  123.83075       1  \n",
       "2018-05-10  123.86205       1  \n",
       "2018-05-11  123.88765       1  \n",
       "2018-05-14  123.91115       1  \n",
       "2018-05-15  123.92010       1  "
      ]
     },
     "execution_count": 9,
     "metadata": {},
     "output_type": "execute_result"
    }
   ],
   "source": [
    "gld['signal'] = np.where(gld['9-day'] > gld['21-day'], 1, 0)\n",
    "gld['signal'] = np.where(gld['9-day'] < gld['21-day'], -1, gld['signal'])\n",
    "gld.dropna(inplace=True)\n",
    "gld.head()"
   ]
  },
  {
   "cell_type": "markdown",
   "id": "c145f80a",
   "metadata": {},
   "source": [
    "#### Calculate Instantaneous returns/system returns"
   ]
  },
  {
   "cell_type": "code",
   "execution_count": 10,
   "id": "143e2adb",
   "metadata": {},
   "outputs": [
    {
     "data": {
      "text/html": [
       "<div>\n",
       "<style scoped>\n",
       "    .dataframe tbody tr th:only-of-type {\n",
       "        vertical-align: middle;\n",
       "    }\n",
       "\n",
       "    .dataframe tbody tr th {\n",
       "        vertical-align: top;\n",
       "    }\n",
       "\n",
       "    .dataframe thead th {\n",
       "        text-align: right;\n",
       "    }\n",
       "</style>\n",
       "<table border=\"1\" class=\"dataframe\">\n",
       "  <thead>\n",
       "    <tr style=\"text-align: right;\">\n",
       "      <th></th>\n",
       "      <th>day</th>\n",
       "      <th>Open</th>\n",
       "      <th>High</th>\n",
       "      <th>Low</th>\n",
       "      <th>Close</th>\n",
       "      <th>9-day</th>\n",
       "      <th>21-day</th>\n",
       "      <th>signal</th>\n",
       "      <th>return</th>\n",
       "      <th>system_return</th>\n",
       "      <th>entry</th>\n",
       "    </tr>\n",
       "    <tr>\n",
       "      <th>Date</th>\n",
       "      <th></th>\n",
       "      <th></th>\n",
       "      <th></th>\n",
       "      <th></th>\n",
       "      <th></th>\n",
       "      <th></th>\n",
       "      <th></th>\n",
       "      <th></th>\n",
       "      <th></th>\n",
       "      <th></th>\n",
       "      <th></th>\n",
       "    </tr>\n",
       "  </thead>\n",
       "  <tbody>\n",
       "    <tr>\n",
       "      <th>2018-05-10</th>\n",
       "      <td>201</td>\n",
       "      <td>125.220001</td>\n",
       "      <td>125.370003</td>\n",
       "      <td>124.750000</td>\n",
       "      <td>125.180000</td>\n",
       "      <td>125.8902</td>\n",
       "      <td>123.86205</td>\n",
       "      <td>1</td>\n",
       "      <td>0.006813</td>\n",
       "      <td>0.006813</td>\n",
       "      <td>0.0</td>\n",
       "    </tr>\n",
       "    <tr>\n",
       "      <th>2018-05-11</th>\n",
       "      <td>202</td>\n",
       "      <td>125.570000</td>\n",
       "      <td>125.589996</td>\n",
       "      <td>124.940002</td>\n",
       "      <td>125.000000</td>\n",
       "      <td>125.8958</td>\n",
       "      <td>123.88765</td>\n",
       "      <td>1</td>\n",
       "      <td>-0.001439</td>\n",
       "      <td>-0.001439</td>\n",
       "      <td>0.0</td>\n",
       "    </tr>\n",
       "    <tr>\n",
       "      <th>2018-05-14</th>\n",
       "      <td>203</td>\n",
       "      <td>125.160004</td>\n",
       "      <td>125.209999</td>\n",
       "      <td>124.440002</td>\n",
       "      <td>124.489998</td>\n",
       "      <td>125.8778</td>\n",
       "      <td>123.91115</td>\n",
       "      <td>1</td>\n",
       "      <td>-0.004088</td>\n",
       "      <td>-0.004088</td>\n",
       "      <td>0.0</td>\n",
       "    </tr>\n",
       "    <tr>\n",
       "      <th>2018-05-15</th>\n",
       "      <td>204</td>\n",
       "      <td>122.820000</td>\n",
       "      <td>122.820000</td>\n",
       "      <td>122.129997</td>\n",
       "      <td>122.480003</td>\n",
       "      <td>125.8238</td>\n",
       "      <td>123.92010</td>\n",
       "      <td>1</td>\n",
       "      <td>-0.016278</td>\n",
       "      <td>-0.016278</td>\n",
       "      <td>0.0</td>\n",
       "    </tr>\n",
       "    <tr>\n",
       "      <th>2018-05-16</th>\n",
       "      <td>205</td>\n",
       "      <td>122.379997</td>\n",
       "      <td>122.610001</td>\n",
       "      <td>122.029999</td>\n",
       "      <td>122.290001</td>\n",
       "      <td>125.7390</td>\n",
       "      <td>123.92780</td>\n",
       "      <td>1</td>\n",
       "      <td>-0.001552</td>\n",
       "      <td>-0.001552</td>\n",
       "      <td>0.0</td>\n",
       "    </tr>\n",
       "  </tbody>\n",
       "</table>\n",
       "</div>"
      ],
      "text/plain": [
       "            day        Open        High         Low       Close     9-day  \\\n",
       "Date                                                                        \n",
       "2018-05-10  201  125.220001  125.370003  124.750000  125.180000  125.8902   \n",
       "2018-05-11  202  125.570000  125.589996  124.940002  125.000000  125.8958   \n",
       "2018-05-14  203  125.160004  125.209999  124.440002  124.489998  125.8778   \n",
       "2018-05-15  204  122.820000  122.820000  122.129997  122.480003  125.8238   \n",
       "2018-05-16  205  122.379997  122.610001  122.029999  122.290001  125.7390   \n",
       "\n",
       "               21-day  signal    return  system_return  entry  \n",
       "Date                                                           \n",
       "2018-05-10  123.86205       1  0.006813       0.006813    0.0  \n",
       "2018-05-11  123.88765       1 -0.001439      -0.001439    0.0  \n",
       "2018-05-14  123.91115       1 -0.004088      -0.004088    0.0  \n",
       "2018-05-15  123.92010       1 -0.016278      -0.016278    0.0  \n",
       "2018-05-16  123.92780       1 -0.001552      -0.001552    0.0  "
      ]
     },
     "execution_count": 10,
     "metadata": {},
     "output_type": "execute_result"
    }
   ],
   "source": [
    "gld['return'] = np.log(gld['Close']).diff()\n",
    "gld['system_return'] = gld['signal'] * gld['return']\n",
    "gld['entry'] = gld.signal.diff()\n",
    "gld.dropna(inplace=True)\n",
    "gld.head()"
   ]
  },
  {
   "cell_type": "markdown",
   "id": "2df3ca52",
   "metadata": {},
   "source": [
    "#### Plot trades on time series"
   ]
  },
  {
   "cell_type": "code",
   "execution_count": 11,
   "id": "54a94d55",
   "metadata": {},
   "outputs": [
    {
     "data": {
      "image/png": "[encoded data removed]",
      "text/plain": [
       "<Figure size 864x432 with 1 Axes>"
      ]
     },
     "metadata": {
      "needs_background": "light"
     },
     "output_type": "display_data"
    }
   ],
   "source": [
    "plt.rcParams['figure.figsize'] = 12, 6\n",
    "plt.grid(True, alpha = .3)\n",
    "plt.plot(gld.iloc[-252:]['Close'], label = 'GLD')\n",
    "plt.plot(gld.iloc[-252:]['9-day'], label = '9-day')\n",
    "plt.plot(gld.iloc[-252:]['21-day'], label = '21-day')\n",
    "plt.plot(gld[-252:].loc[gld.entry == 2].index, gld[-252:]['9-day'][gld.entry == 2], '^',\n",
    "         color = 'g', markersize = 12)\n",
    "plt.plot(gld[-252:].loc[gld.entry == -2].index, gld[-252:]['21-day'][gld.entry == -2], 'v',\n",
    "         color = 'r', markersize = 12)\n",
    "plt.legend(loc=2);"
   ]
  },
  {
   "cell_type": "code",
   "execution_count": 12,
   "id": "b2d042e6",
   "metadata": {},
   "outputs": [
    {
     "data": {
      "image/png": "[encoded data removed]",
      "text/plain": [
       "<Figure size 864x432 with 1 Axes>"
      ]
     },
     "metadata": {
      "needs_background": "light"
     },
     "output_type": "display_data"
    }
   ],
   "source": [
    "plt.plot(np.exp(gld['return']).cumprod(), label='Buy/Hold')\n",
    "plt.plot(np.exp(gld['system_return']).cumprod(), label='System')\n",
    "plt.legend(loc=2)\n",
    "plt.grid(True, alpha=.3)"
   ]
  },
  {
   "cell_type": "code",
   "execution_count": 13,
   "id": "b677875f",
   "metadata": {},
   "outputs": [
    {
     "data": {
      "text/plain": [
       "0.29228662271935857"
      ]
     },
     "execution_count": 13,
     "metadata": {},
     "output_type": "execute_result"
    }
   ],
   "source": [
    "np.exp(gld['return']).cumprod()[-1] -1"
   ]
  },
  {
   "cell_type": "code",
   "execution_count": 14,
   "id": "87f609bd",
   "metadata": {},
   "outputs": [
    {
     "data": {
      "text/plain": [
       "0.30397343646646857"
      ]
     },
     "execution_count": 14,
     "metadata": {},
     "output_type": "execute_result"
    }
   ],
   "source": [
    "np.exp(gld['system_return']).cumprod()[-1] -1"
   ]
  },
  {
   "cell_type": "code",
   "execution_count": 15,
   "id": "5e003e00",
   "metadata": {},
   "outputs": [
    {
     "data": {
      "text/plain": [
       "Date\n",
       "2018-05-10    0.006837\n",
       "2018-05-11    0.005389\n",
       "2018-05-14    0.001287\n",
       "2018-05-15   -0.014880\n",
       "2018-05-16   -0.016408\n",
       "                ...   \n",
       "2022-07-18    0.280142\n",
       "2022-07-19    0.283198\n",
       "2022-07-20    0.271133\n",
       "2022-07-21    0.289069\n",
       "2022-07-22    0.292287\n",
       "Name: return, Length: 1058, dtype: float64"
      ]
     },
     "execution_count": 15,
     "metadata": {},
     "output_type": "execute_result"
    }
   ],
   "source": [
    "np.exp(gld['return']).cumprod() -1"
   ]
  },
  {
   "cell_type": "code",
   "execution_count": 16,
   "id": "a59b175c",
   "metadata": {},
   "outputs": [
    {
     "data": {
      "text/plain": [
       "Date\n",
       "2018-05-10    0.006837\n",
       "2018-05-11    0.005389\n",
       "2018-05-14    0.001287\n",
       "2018-05-15   -0.014880\n",
       "2018-05-16   -0.016408\n",
       "                ...   \n",
       "2022-07-18    0.316345\n",
       "2022-07-19    0.313209\n",
       "2022-07-20    0.325673\n",
       "2022-07-21    0.307228\n",
       "2022-07-22    0.303973\n",
       "Name: system_return, Length: 1058, dtype: float64"
      ]
     },
     "execution_count": 16,
     "metadata": {},
     "output_type": "execute_result"
    }
   ],
   "source": [
    "np.exp(gld['system_return']).cumprod() -1"
   ]
  },
  {
   "cell_type": "code",
   "execution_count": null,
   "id": "cbf0b51c",
   "metadata": {},
   "outputs": [],
   "source": []
  }
 ],
 "metadata": {
  "kernelspec": {
   "display_name": "Python 3",
   "language": "python",
   "name": "python3"
  },
  "language_info": {
   "codemirror_mode": {
    "name": "ipython",
    "version": 3
   },
   "file_extension": ".py",
   "mimetype": "text/x-python",
   "name": "python",
   "nbconvert_exporter": "python",
   "pygments_lexer": "ipython3",
   "version": "3.10.4"
  }
 },
 "nbformat": 4,
 "nbformat_minor": 5
}
